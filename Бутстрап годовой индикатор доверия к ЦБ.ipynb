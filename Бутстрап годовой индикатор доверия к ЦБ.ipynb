{
 "cells": [
  {
   "cell_type": "code",
   "execution_count": 1,
   "id": "5984b9e7-ec0b-4b42-b02d-36349dd86575",
   "metadata": {},
   "outputs": [],
   "source": [
    "import pandas as pd\n",
    "import datetime\n",
    "import time\n",
    "import numpy as np"
   ]
  },
  {
   "cell_type": "code",
   "execution_count": 2,
   "id": "2e731889-da73-4872-a8f6-e62bffa7d70f",
   "metadata": {},
   "outputs": [],
   "source": [
    "s_ec = ['aif_ru_all_comments_mood.csv', 'expert_ru_all_comments_mood.csv', 'izvestia_all_comments_mood.csv', 'kommersant_all_comments_mood.csv', 'mk_ru_all_comments_mood.csv', 'rbc_all_comments_mood.csv', 'ria_all_comments_mood.csv', 'tassagency_all_comments_mood.csv', 'vedomosti_all_comments_mood.csv', 'vesti_all_comments_mood.csv']"
   ]
  },
  {
   "cell_type": "code",
   "execution_count": 3,
   "id": "f46c5713-611c-4cb9-94d4-ddd66e215da8",
   "metadata": {},
   "outputs": [],
   "source": [
    "s_cb = ['aif_ru_comments_mood_with_cb.csv', 'expert_ru_comments_mood_with_cb.csv', 'izvestia_comments_mood_with_cb.csv', 'kommersant_comments_mood_with_cb.csv', 'mk_ru_comments_mood_with_cb.csv', 'rbc_comments_mood_with_cb.csv', 'ria_comments_mood_with_cb.csv', 'tassagency_comments_mood_with_cb.csv', 'vedomosti_comments_mood_with_cb.csv', 'vesti_comments_mood_with_cb.csv']"
   ]
  },
  {
   "cell_type": "code",
   "execution_count": 4,
   "id": "993b45f2-b4cf-449d-96fa-71c01750633b",
   "metadata": {},
   "outputs": [],
   "source": [
    "df_ec=pd.concat([pd.read_csv(i) for i in s_ec], axis=0)\n",
    "df_ec = df_ec.sort_values(by=['comment_time'])\n",
    "df_ec['year'] = df_ec['comment_time']//31536000+1970"
   ]
  },
  {
   "cell_type": "code",
   "execution_count": 8,
   "id": "58dca0b0-dc38-448b-8349-e56ffc4dcde9",
   "metadata": {},
   "outputs": [
    {
     "data": {
      "text/plain": [
       "(143570, 8)"
      ]
     },
     "execution_count": 8,
     "metadata": {},
     "output_type": "execute_result"
    }
   ],
   "source": [
    "df_ec.shape"
   ]
  },
  {
   "cell_type": "markdown",
   "id": "4e64e360-03bc-4275-8fcc-98090ab113f6",
   "metadata": {},
   "source": [
    "Проверка:"
   ]
  },
  {
   "cell_type": "code",
   "execution_count": 12,
   "id": "ccf33ecb-97b7-47e2-9233-68aee51b80b5",
   "metadata": {},
   "outputs": [
    {
     "data": {
      "text/plain": [
       "143570"
      ]
     },
     "execution_count": 12,
     "metadata": {},
     "output_type": "execute_result"
    }
   ],
   "source": [
    "28094+6228+16884+17210+13505+8238+8365+12839+13942+18265"
   ]
  },
  {
   "cell_type": "code",
   "execution_count": 14,
   "id": "11ce5abe-1949-4bc9-941e-4be5fcdb4ce1",
   "metadata": {},
   "outputs": [
    {
     "data": {
      "text/plain": [
       "(60269, 8)"
      ]
     },
     "execution_count": 14,
     "metadata": {},
     "output_type": "execute_result"
    }
   ],
   "source": [
    "df_cb=pd.concat([pd.read_csv(i) for i in s_cb], axis=0)\n",
    "df_cb = df_cb.sort_values(by=['comment_time'])\n",
    "df_cb['year'] = df_cb['comment_time']//31536000+1970\n",
    "df_cb.shape"
   ]
  },
  {
   "cell_type": "code",
   "execution_count": 32,
   "id": "276b3430-8371-48af-bd47-c881f0a4be5f",
   "metadata": {},
   "outputs": [],
   "source": [
    "def get_bootstrap_ci(data_ec, data_cb, N: int = 10**3, alpha: float = 0.1) -> tuple[float, float]:\n",
    "    n_ec = data_ec.size\n",
    "    n_cb = data_cb.size\n",
    "    bootstrap_data_ec = np.random.choice(data_ec['mood'], (N, n_ec), replace=True)\n",
    "    bootstrap_data_cb = np.random.choice(data_cb['mood'], (N, n_cb), replace=True)\n",
    "    theta_hat = (bootstrap_data_cb.mean(axis=1)-bootstrap_data_ec.mean(axis=1))/4+np.ones(N)*0.5\n",
    "    theta_left = np.quantile(theta_hat, alpha/2)\n",
    "    theta_right = np.quantile(theta_hat, 1-alpha/2)\n",
    "    return theta_left, theta_right"
   ]
  },
  {
   "cell_type": "code",
   "execution_count": 34,
   "id": "42889ba9-22af-44df-902a-0728ef2c0a9b",
   "metadata": {},
   "outputs": [],
   "source": [
    "theta_left_list=list()\n",
    "theta_right_list=list()\n",
    "for i in range (2014, 2025):\n",
    "    data_ec = df_ec[df_ec['year']==i]\n",
    "    data_cb = df_cb[df_cb['year']==i]\n",
    "    theta_left, theta_right = get_bootstrap_ci(data_ec, data_cb, N = 1000, alpha = 0.1)\n",
    "    theta_left_list.append(theta_left)\n",
    "    theta_right_list.append(theta_right)\n",
    "theta=pd.DataFrame()\n",
    "theta['left']=theta_left_list\n",
    "theta['right']=theta_right_list"
   ]
  },
  {
   "cell_type": "code",
   "execution_count": 35,
   "id": "9d6b4ab3-a014-481e-92f0-3e00972dbfd6",
   "metadata": {},
   "outputs": [
    {
     "data": {
      "text/html": [
       "<div>\n",
       "<style scoped>\n",
       "    .dataframe tbody tr th:only-of-type {\n",
       "        vertical-align: middle;\n",
       "    }\n",
       "\n",
       "    .dataframe tbody tr th {\n",
       "        vertical-align: top;\n",
       "    }\n",
       "\n",
       "    .dataframe thead th {\n",
       "        text-align: right;\n",
       "    }\n",
       "</style>\n",
       "<table border=\"1\" class=\"dataframe\">\n",
       "  <thead>\n",
       "    <tr style=\"text-align: right;\">\n",
       "      <th></th>\n",
       "      <th>left</th>\n",
       "      <th>right</th>\n",
       "    </tr>\n",
       "  </thead>\n",
       "  <tbody>\n",
       "    <tr>\n",
       "      <th>0</th>\n",
       "      <td>0.497772</td>\n",
       "      <td>0.499519</td>\n",
       "    </tr>\n",
       "    <tr>\n",
       "      <th>1</th>\n",
       "      <td>0.499364</td>\n",
       "      <td>0.500883</td>\n",
       "    </tr>\n",
       "    <tr>\n",
       "      <th>2</th>\n",
       "      <td>0.500699</td>\n",
       "      <td>0.501940</td>\n",
       "    </tr>\n",
       "    <tr>\n",
       "      <th>3</th>\n",
       "      <td>0.500575</td>\n",
       "      <td>0.502278</td>\n",
       "    </tr>\n",
       "    <tr>\n",
       "      <th>4</th>\n",
       "      <td>0.500474</td>\n",
       "      <td>0.502200</td>\n",
       "    </tr>\n",
       "    <tr>\n",
       "      <th>5</th>\n",
       "      <td>0.499968</td>\n",
       "      <td>0.501990</td>\n",
       "    </tr>\n",
       "    <tr>\n",
       "      <th>6</th>\n",
       "      <td>0.500559</td>\n",
       "      <td>0.502397</td>\n",
       "    </tr>\n",
       "    <tr>\n",
       "      <th>7</th>\n",
       "      <td>0.499698</td>\n",
       "      <td>0.501356</td>\n",
       "    </tr>\n",
       "    <tr>\n",
       "      <th>8</th>\n",
       "      <td>0.499191</td>\n",
       "      <td>0.499993</td>\n",
       "    </tr>\n",
       "    <tr>\n",
       "      <th>9</th>\n",
       "      <td>0.497973</td>\n",
       "      <td>0.498620</td>\n",
       "    </tr>\n",
       "    <tr>\n",
       "      <th>10</th>\n",
       "      <td>0.496989</td>\n",
       "      <td>0.498266</td>\n",
       "    </tr>\n",
       "  </tbody>\n",
       "</table>\n",
       "</div>"
      ],
      "text/plain": [
       "        left     right\n",
       "0   0.497772  0.499519\n",
       "1   0.499364  0.500883\n",
       "2   0.500699  0.501940\n",
       "3   0.500575  0.502278\n",
       "4   0.500474  0.502200\n",
       "5   0.499968  0.501990\n",
       "6   0.500559  0.502397\n",
       "7   0.499698  0.501356\n",
       "8   0.499191  0.499993\n",
       "9   0.497973  0.498620\n",
       "10  0.496989  0.498266"
      ]
     },
     "execution_count": 35,
     "metadata": {},
     "output_type": "execute_result"
    }
   ],
   "source": [
    "theta"
   ]
  },
  {
   "cell_type": "code",
   "execution_count": 30,
   "id": "3aca105f-13c3-4546-b200-5d626a6a71c2",
   "metadata": {},
   "outputs": [
    {
     "name": "stderr",
     "output_type": "stream",
     "text": [
      "Matplotlib is building the font cache; this may take a moment.\n"
     ]
    },
    {
     "data": {
      "text/plain": [
       "<Axes: >"
      ]
     },
     "execution_count": 30,
     "metadata": {},
     "output_type": "execute_result"
    },
    {
     "data": {
      "image/png": "[encoded data removed]",
      "text/plain": [
       "<Figure size 640x480 with 1 Axes>"
      ]
     },
     "metadata": {},
     "output_type": "display_data"
    }
   ],
   "source": [
    "theta.plot()"
   ]
  }
 ],
 "metadata": {
  "kernelspec": {
   "display_name": "Python 3 (ipykernel)",
   "language": "python",
   "name": "python3"
  },
  "language_info": {
   "codemirror_mode": {
    "name": "ipython",
    "version": 3
   },
   "file_extension": ".py",
   "mimetype": "text/x-python",
   "name": "python",
   "nbconvert_exporter": "python",
   "pygments_lexer": "ipython3",
   "version": "3.12.7"
  }
 },
 "nbformat": 4,
 "nbformat_minor": 5
}
